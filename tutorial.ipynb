{
 "cells": [
  {
   "cell_type": "markdown",
   "metadata": {
    "id": "Ig6POpnWMvC7"
   },
   "source": [
    "# **`robopianist` tutorial**\n",
    "\n",
    "[![Open In Colab](https://colab.research.google.com/assets/colab-badge.svg)](https://colab.research.google.com/github/google-research/robopianist/blob/main/tutorial.ipynb)\n",
    "\n",
    "\n",
    "\n",
    "\n",
    "\n",
    "\n"
   ]
  },
  {
   "cell_type": "markdown",
   "metadata": {
    "id": "NAa4EzGIMymK"
   },
   "source": [
    "> <p><small><small>Copyright 2023 The RoboPianist Authors.</small></p>\n",
    "> <p><small><small>Licensed under the Apache License, Version 2.0 (the \"License\"); you may not use this file except in compliance with the License. You may obtain a copy of the License at <a href=\"http://www.apache.org/licenses/LICENSE-2.0\">http://www.apache.org/licenses/LICENSE-2.0</a>.</small></small></p>\n",
    "> <p><small><small>Unless required by applicable law or agreed to in writing, software distributed under the License is distributed on an \"AS IS\" BASIS, WITHOUT WARRANTIES OR CONDITIONS OF ANY KIND, either express or implied. See the License for the specific language governing permissions and limitations under the License.</small></small></p>"
   ]
  },
  {
   "cell_type": "markdown",
   "metadata": {
    "id": "ai0FRnxDM8HP"
   },
   "source": [
    "# Installing `robopianist` on Colab"
   ]
  },
  {
   "cell_type": "code",
   "execution_count": null,
   "metadata": {
    "cellView": "form",
    "id": "-F6gUpNcM4BE"
   },
   "outputs": [],
   "source": [
    "# @title Run to install robopianist\n",
    "from IPython.display import clear_output\n",
    "import subprocess\n",
    "\n",
    "if subprocess.run(\"nvidia-smi\").returncode:\n",
    "    raise RuntimeError(\n",
    "        \"Cannot communicate with GPU. \"\n",
    "        \"Make sure you are using a GPU Colab runtime. \"\n",
    "        \"Go to the Runtime menu and select Choose runtime type.\"\n",
    "    )\n",
    "\n",
    "# Install dependencies.\n",
    "%shell bash <(curl -s https://raw.githubusercontent.com/google-research/robopianist/main/scripts/install_deps.sh) --no-soundfonts\n",
    "\n",
    "print(\"Installing robopianist...\")\n",
    "%pip install -q robopianist>=1.0.6\n",
    "\n",
    "%env MUJOCO_GL=egl\n",
    "\n",
    "clear_output()\n",
    "%shell echo Installed $(robopianist --version)"
   ]
  },
  {
   "cell_type": "markdown",
   "metadata": {
    "id": "y-gaEcnaS0vX"
   },
   "source": [
    "# Imports"
   ]
  },
  {
   "cell_type": "code",
   "execution_count": null,
   "metadata": {
    "cellView": "form",
    "id": "vpYvIKL3Su0x"
   },
   "outputs": [],
   "source": [
    "# @title All imports required for this tutorial\n",
    "from IPython.display import HTML\n",
    "from base64 import b64encode\n",
    "import numpy as np\n",
    "from robopianist.suite.tasks import self_actuated_piano\n",
    "from robopianist.suite.tasks import piano_with_shadow_hands\n",
    "from dm_env_wrappers import CanonicalSpecWrapper\n",
    "from robopianist.wrappers import PianoSoundVideoWrapper\n",
    "from robopianist import music\n",
    "from mujoco_utils import composer_utils\n",
    "import dm_env"
   ]
  },
  {
   "cell_type": "code",
   "execution_count": null,
   "metadata": {
    "cellView": "form",
    "id": "rxep9j1nTDOr"
   },
   "outputs": [],
   "source": [
    "# @title Helper functions\n",
    "\n",
    "\n",
    "# Reference: https://stackoverflow.com/a/60986234.\n",
    "def play_video(filename: str):\n",
    "    mp4 = open(filename, \"rb\").read()\n",
    "    data_url = \"data:video/mp4;base64,\" + b64encode(mp4).decode()\n",
    "\n",
    "    return HTML(\n",
    "        \"\"\"\n",
    "  <video controls>\n",
    "        <source src=\"%s\" type=\"video/mp4\">\n",
    "  </video>\n",
    "  \"\"\"\n",
    "        % data_url\n",
    "    )"
   ]
  },
  {
   "cell_type": "markdown",
   "metadata": {
    "id": "L8gSygrNO9du"
   },
   "source": [
    "# Self-actuated piano task"
   ]
  },
  {
   "cell_type": "code",
   "execution_count": null,
   "metadata": {
    "id": "3j_CgR-_Qg5q"
   },
   "outputs": [],
   "source": [
    "task = self_actuated_piano.SelfActuatedPiano(\n",
    "    midi=music.load(\"TwinkleTwinkleRousseau\"),\n",
    "    change_color_on_activation=True,\n",
    "    trim_silence=True,\n",
    "    control_timestep=0.01,\n",
    ")\n",
    "\n",
    "env = composer_utils.Environment(\n",
    "    recompile_physics=False, task=task, strip_singleton_obs_buffer_dim=True\n",
    ")\n",
    "\n",
    "env = PianoSoundVideoWrapper(\n",
    "    env,\n",
    "    record_every=1,\n",
    "    camera_id=\"piano/back\",\n",
    "    record_dir=\".\",\n",
    ")"
   ]
  },
  {
   "cell_type": "code",
   "execution_count": null,
   "metadata": {
    "id": "4owjhVl6QuHh"
   },
   "outputs": [],
   "source": [
    "action_spec = env.action_spec()\n",
    "min_ctrl = action_spec.minimum\n",
    "max_ctrl = action_spec.maximum\n",
    "print(f\"Action dimension: {action_spec.shape}\")"
   ]
  },
  {
   "cell_type": "code",
   "execution_count": null,
   "metadata": {
    "id": "BEELrpGNQwDt"
   },
   "outputs": [],
   "source": [
    "print(\"Observables:\")\n",
    "timestep = env.reset()\n",
    "dim = 0\n",
    "for k, v in timestep.observation.items():\n",
    "    print(f\"\\t{k}: {v.shape} {v.dtype}\")\n",
    "    dim += np.prod(v.shape)\n",
    "print(f\"Observation dimension: {dim}\")"
   ]
  },
  {
   "cell_type": "code",
   "execution_count": null,
   "metadata": {
    "id": "KjhPlbGMQykc"
   },
   "outputs": [],
   "source": [
    "class Oracle:\n",
    "    def __call__(self, timestep: dm_env.TimeStep) -> np.ndarray:\n",
    "        if timestep.reward is not None:\n",
    "            assert timestep.reward == 0\n",
    "        # Only grab the next timestep's goal state.\n",
    "        goal = timestep.observation[\"goal\"][: task.piano.n_keys]\n",
    "        key_idxs = np.flatnonzero(goal)\n",
    "        # For goal keys that should be pressed, set the action to the maximum\n",
    "        # actuator value. For goal keys that should be released, set the action to\n",
    "        # the minimum actuator value.\n",
    "        action = min_ctrl.copy()\n",
    "        action[key_idxs] = max_ctrl[key_idxs]\n",
    "        # Grab the sustain pedal action.\n",
    "        action[-1] = timestep.observation[\"goal\"][-1]\n",
    "        return action"
   ]
  },
  {
   "cell_type": "code",
   "execution_count": null,
   "metadata": {
    "id": "NLvJdsjUQ9LA"
   },
   "outputs": [],
   "source": [
    "policy = Oracle()\n",
    "\n",
    "timestep = env.reset()\n",
    "while not timestep.last():\n",
    "    action = policy(timestep)\n",
    "    timestep = env.step(action)"
   ]
  },
  {
   "cell_type": "code",
   "execution_count": null,
   "metadata": {
    "id": "Vl8ujKAPSQZL"
   },
   "outputs": [],
   "source": [
    "play_video(env.latest_filename)"
   ]
  },
  {
   "cell_type": "markdown",
   "metadata": {
    "id": "1UiFM1TxUOVS"
   },
   "source": [
    "# Piano with Shadow Hands"
   ]
  },
  {
   "cell_type": "code",
   "execution_count": null,
   "metadata": {
    "id": "5CL-WIUqUL04"
   },
   "outputs": [],
   "source": [
    "task = piano_with_shadow_hands.PianoWithShadowHands(\n",
    "    change_color_on_activation=True,\n",
    "    midi=music.load(\"TwinkleTwinkleRousseau\"),\n",
    "    trim_silence=True,\n",
    "    control_timestep=0.05,\n",
    "    gravity_compensation=True,\n",
    "    primitive_fingertip_collisions=False,\n",
    "    reduced_action_space=False,\n",
    "    n_steps_lookahead=10,\n",
    "    disable_fingering_reward=False,\n",
    "    disable_forearm_reward=False,\n",
    "    disable_colorization=False,\n",
    "    disable_hand_collisions=False,\n",
    "    attachment_yaw=0.0,\n",
    ")\n",
    "\n",
    "env = composer_utils.Environment(\n",
    "    task=task, strip_singleton_obs_buffer_dim=True, recompile_physics=False\n",
    ")\n",
    "\n",
    "env = PianoSoundVideoWrapper(\n",
    "    env,\n",
    "    record_every=1,\n",
    "    camera_id=\"piano/back\",\n",
    "    record_dir=\".\",\n",
    ")\n",
    "\n",
    "env = CanonicalSpecWrapper(env)"
   ]
  },
  {
   "cell_type": "code",
   "execution_count": null,
   "metadata": {
    "id": "RhwyqkIhUbOC"
   },
   "outputs": [],
   "source": [
    "action_spec = env.action_spec()\n",
    "print(f\"Action dimension: {action_spec.shape}\")"
   ]
  },
  {
   "cell_type": "code",
   "execution_count": null,
   "metadata": {
    "id": "QzcTcVaAUdcZ"
   },
   "outputs": [],
   "source": [
    "timestep = env.reset()\n",
    "dim = 0\n",
    "for k, v in timestep.observation.items():\n",
    "    print(f\"\\t{k}: {v.shape} {v.dtype}\")\n",
    "    dim += int(np.prod(v.shape))\n",
    "print(f\"Observation dimension: {dim}\")"
   ]
  },
  {
   "cell_type": "code",
   "execution_count": null,
   "metadata": {
    "id": "YtAv-gajUeNc"
   },
   "outputs": [],
   "source": [
    "# Download pretrained policy action sequence.\n",
    "%shell wget https://github.com/google-research/robopianist/raw/main/examples/twinkle_twinkle_actions.npy > /dev/null 2>&1\n",
    "\n",
    "\n",
    "class Policy:\n",
    "    def __init__(self) -> None:\n",
    "        self.reset()\n",
    "\n",
    "    def reset(self) -> None:\n",
    "        self._idx = 0\n",
    "        self._actions = np.load(\"twinkle_twinkle_actions.npy\")\n",
    "\n",
    "    def __call__(self, timestep: dm_env.TimeStep) -> np.ndarray:\n",
    "        del timestep  # Unused.\n",
    "        actions = self._actions[self._idx]\n",
    "        self._idx += 1\n",
    "        return actions"
   ]
  },
  {
   "cell_type": "code",
   "execution_count": null,
   "metadata": {
    "id": "GbOaZ9UoVOrh"
   },
   "outputs": [],
   "source": [
    "policy = Policy()\n",
    "\n",
    "timestep = env.reset()\n",
    "while not timestep.last():\n",
    "    action = policy(timestep)\n",
    "    timestep = env.step(action)"
   ]
  },
  {
   "cell_type": "code",
   "execution_count": null,
   "metadata": {
    "id": "8TfPjxCqVWZ4"
   },
   "outputs": [],
   "source": [
    "play_video(env.latest_filename)"
   ]
  }
 ],
 "metadata": {
  "accelerator": "GPU",
  "colab": {
   "collapsed_sections": [
    "ai0FRnxDM8HP"
   ],
   "provenance": []
  },
  "gpuClass": "standard",
  "kernelspec": {
   "display_name": "Python 3",
   "name": "python3"
  },
  "language_info": {
   "name": "python"
  }
 },
 "nbformat": 4,
 "nbformat_minor": 0
}
